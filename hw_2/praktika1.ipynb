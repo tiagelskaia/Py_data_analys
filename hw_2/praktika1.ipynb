{
 "cells": [
  {
   "cell_type": "code",
   "execution_count": null,
   "metadata": {},
   "outputs": [],
   "source": [
    "class Chocolate:\n",
    "    def __init__(self, price, ingredient = ''):\n",
    "        self.price = float(price)\n",
    "        self.ingredient = ingredient\n",
    "        if price < 0:\n",
    "            raise ValueError ('Цена батончика должна быть больше ноля!')\n",
    "    def show_my_chocolate(self):\n",
    "        if self.ingredient == '':\n",
    "            print(f'Обычный шоколадный батончик')\n",
    "        else:\n",
    "            print(f'Шоколадный батончик, добавка {self.ingredient}')\n",
    "    def __str__(self):\n",
    "        return f'Шоколадный батончик, {self.price} рублей'\n",
    "\n",
    "\n",
    "sniekers = Chocolate(20.0, 'фундук')\n",
    "print(sniekers)\n",
    "sniekers.show_my_chocolate()\n",
    "\n",
    "usual_choco = Chocolate(8.0)\n",
    "usual_choco.show_my_chocolate()\n",
    "\n",
    "cheap_choco = Chocolate(-8, 'Зефир')"
   ]
  }
 ],
 "metadata": {
  "language_info": {
   "name": "python"
  }
 },
 "nbformat": 4,
 "nbformat_minor": 2
}
